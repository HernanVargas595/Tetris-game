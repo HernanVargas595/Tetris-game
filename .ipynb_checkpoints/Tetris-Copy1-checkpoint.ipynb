{
 "cells": [
  {
   "cell_type": "markdown",
   "id": "730c24b3",
   "metadata": {},
   "source": [
    "# Tetris \n",
    "\n",
    "I am programming a tetris game:3"
   ]
  },
  {
   "cell_type": "markdown",
   "id": "73a1312e",
   "metadata": {},
   "source": [
    "# Define the background\n",
    "\n",
    "We create an array of background, we assign 0 for a blanck space an one for a fill space"
   ]
  },
  {
   "cell_type": "code",
   "execution_count": 5,
   "id": "0c1c5952",
   "metadata": {},
   "outputs": [
    {
     "name": "stdout",
     "output_type": "stream",
     "text": [
      "\n",
      "\n",
      "000000000000\n",
      "000000000000\n",
      "000000000000\n",
      "000000000000\n",
      "000000000000\n",
      "000000000000\n",
      "000000000000\n",
      "000000000000\n",
      "000000000000\n",
      "000000000000\n",
      "000000000000\n",
      "000000000000\n",
      "000000000000\n",
      "000000000000\n",
      "000000000000\n",
      "000000000000\n",
      "000000000000\n",
      "000000000000\n",
      "000000000000\n",
      "000000000000\n",
      "(0, 5)\n",
      "(1, 5)\n",
      "(0, 6)\n",
      "(1, 6)\n",
      "\n",
      "\n",
      "000001100000\n",
      "000001100000\n",
      "000000000000\n",
      "000000000000\n",
      "000000000000\n",
      "000000000000\n",
      "000000000000\n",
      "000000000000\n",
      "000000000000\n",
      "000000000000\n",
      "000000000000\n",
      "000000000000\n",
      "000000000000\n",
      "000000000000\n",
      "000000000000\n",
      "000000000000\n",
      "000000000000\n",
      "000000000000\n",
      "000000000000\n",
      "000000000000\n"
     ]
    }
   ],
   "source": [
    "import numpy as np\n",
    "\n",
    "height, width=20, 12\n",
    "\n",
    "#Define class of tetris\n",
    "class Wall:\n",
    "    #method \n",
    "    def __init__(np.):\n",
    "    pass\n",
    "\n",
    "class Figure:\n",
    "    pass\n",
    "\n",
    "#To crete an matrix for background empty with shape (10, 20)\n",
    "def initial_background():\n",
    "    return np.zeros((height,width), dtype=int)\n",
    "\n",
    "#Define the figure square, with the initial position and the shape for a square for each pixel for itself\n",
    "def square(pos_x, pos_y):\n",
    "    square=[(pos_x, pos_y),(pos_x+1, pos_y),\n",
    "            (pos_x, pos_y+1),(pos_x+1, pos_y+1)]\n",
    "    return square\n",
    "\n",
    "##To add a figure, in this case we aggregate an square while improve the logic\n",
    "def add_figure(background):\n",
    "    ###We add the figue always in the y=0 and x=width/2-1\n",
    "    figure=square(0,int(width/2)-1)    \n",
    "    for pixel in figure:\n",
    "        print(pixel)\n",
    "        background[pixel]=1\n",
    "    return background\n",
    "\n",
    "##We have to improve this\n",
    "def plot(background):\n",
    "    print(\"\\n\")\n",
    "#     print(background)\n",
    "    for row in background:\n",
    "        print(\"\".join(map(str, row)))\n",
    "\n",
    "def tetris():\n",
    "\n",
    "    background=initial_background()\n",
    "    plot(background)\n",
    "    \n",
    "    background=add_figure(background)\n",
    "    plot(background)\n",
    "\n",
    "tetris()"
   ]
  }
 ],
 "metadata": {
  "kernelspec": {
   "display_name": "Python 3",
   "language": "python",
   "name": "python3"
  },
  "language_info": {
   "codemirror_mode": {
    "name": "ipython",
    "version": 3
   },
   "file_extension": ".py",
   "mimetype": "text/x-python",
   "name": "python",
   "nbconvert_exporter": "python",
   "pygments_lexer": "ipython3",
   "version": "3.8.8"
  }
 },
 "nbformat": 4,
 "nbformat_minor": 5
}
