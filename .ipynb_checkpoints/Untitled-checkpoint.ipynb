{
 "cells": [
  {
   "cell_type": "code",
   "execution_count": 8,
   "id": "a28393a2",
   "metadata": {},
   "outputs": [
    {
     "name": "stdout",
     "output_type": "stream",
     "text": [
      "[[0 0]\n",
      " [1 0]\n",
      " [0 1]\n",
      " [1 1]]\n",
      "0\n",
      "((0, 0), (1, 0), (0, 1), (1, 1))\n"
     ]
    }
   ],
   "source": [
    "import numpy as np\n",
    "\"\"\"Space for trying things\"\"\"\n",
    "\n",
    "# a=np.matrix([[0,0],[1,0],[0,1],[1,1] ])\n",
    "# # b=np.matrix([2,5])\n",
    "# b=np.matrix([0,0])\n",
    "# c=b+a\n",
    "# print(a, b)\n",
    "# print(c)\n",
    "# print(type(a))\n",
    "\n",
    "\n",
    "shape=np.array([(0,0),(1,0),(0,1),(1,1)])\n",
    "print(shape)\n",
    "print(shape[2,0])\n",
    "\n",
    "shape=tuple(map(tuple, shape))\n",
    "print(shape)\n",
    "\n",
    "# for row in shape:\n",
    "#     print(\"this row\", row)\n",
    "#     print(row.shape)\n",
    "\n",
    "# print(shape.shape)\n",
    "# print(shape.shape[0])\n",
    "# print(shape.shape[1])\n",
    "\n",
    "# for row in shape:\n",
    "#     print(row.shape)\n",
    "#     a=()\n",
    "#     for element in row:\n",
    "#         print(\"lala\")\n",
    "#         print(element.shape)\n",
    "#         print(type(element))\n",
    "# #         a=a+(element)\n",
    "# #     print(a) "
   ]
  },
  {
   "cell_type": "code",
   "execution_count": 20,
   "id": "808df673",
   "metadata": {
    "scrolled": true
   },
   "outputs": [
    {
     "name": "stdout",
     "output_type": "stream",
     "text": [
      "[[1, 1, 1], [0, 1, 0]]\n",
      "0 0\n",
      "0 1\n",
      "0 2\n",
      "1 1\n",
      "None\n",
      "####\n",
      "[[0, 1], [1, 1], [0, 1]]\n",
      "0 1\n",
      "1 0\n",
      "1 1\n",
      "2 1\n",
      "None\n",
      "####\n",
      "[[0, 1, 0], [1, 1, 1]]\n",
      "0 1\n",
      "1 0\n",
      "1 1\n",
      "1 2\n",
      "None\n",
      "####\n",
      "[[1, 0], [1, 1], [1, 0]]\n",
      "0 0\n",
      "1 0\n",
      "1 1\n",
      "2 0\n",
      "None\n",
      "[[1 0]\n",
      " [1 1]\n",
      " [1 2]\n",
      " [0 1]]\n",
      "[[1 0]\n",
      " [1 1]\n",
      " [1 2]\n",
      " [0 1]]\n"
     ]
    }
   ],
   "source": [
    "import numpy as np\n",
    "\n",
    "SHAPES = [\n",
    "    [[1, 1, 1, 1]],\n",
    "    [[1, 1], [1, 1]],\n",
    "    [[1, 1, 1], [0, 1, 0]],\n",
    "    [[1, 1, 1], [1, 0, 0]],\n",
    "    [[1, 1, 1], [0, 0, 1]],\n",
    "    [[1, 1, 1], [0, 1, 0]],\n",
    "    [[1, 1, 1], [1, 0, 1]],\n",
    "]\n",
    "\n",
    "def rotate_shape(shape):\n",
    "    return [list(row) for row in zip(*shape[::-1])]\n",
    "\n",
    "def coordinates(shape):\n",
    "    i, j=0, 0\n",
    "    shape=np.array(shape)\n",
    "#     print(shape.shape)\n",
    "#     print(shape.shape[0])\n",
    "#     print(shape.shape[1])\n",
    "    for row in range(shape.shape[0]):\n",
    "        for element in range(shape.shape[1]):\n",
    "            if shape[row, element]==1:\n",
    "                print(row,element)\n",
    "        \n",
    "figure=SHAPES[2]\n",
    "rotation1=rotate_shape(figure)\n",
    "rotation2=rotate_shape(rotation1)\n",
    "rotation3=rotate_shape(rotation2)\n",
    "\n",
    "print(figure)\n",
    "print(coordinates(figure))\n",
    "print(\"####\")\n",
    "print(rotation1)\n",
    "print(coordinates(rotation1))\n",
    "print(\"####\")\n",
    "print(rotation2)\n",
    "print(coordinates(rotation2))\n",
    "print(\"####\")\n",
    "print(rotation3)\n",
    "print(coordinates(rotation3))\n",
    "\n",
    "\n",
    "shape=np.array([(1,0),(1,1),(1,2),(0,1)])\n",
    "print(shape)\n",
    "\n",
    "shape=np.transpose(shape, axes=None)\n",
    "shape=np.transpose(shape, axes=None)\n",
    "print(shape)"
   ]
  },
  {
   "cell_type": "code",
   "execution_count": 5,
   "id": "13a520cc",
   "metadata": {},
   "outputs": [
    {
     "name": "stdout",
     "output_type": "stream",
     "text": [
      "[0 1]\n"
     ]
    },
    {
     "ename": "ValueError",
     "evalue": "all the input array dimensions for the concatenation axis must match exactly, but along dimension 1, the array at index 0 has size 1 and the array at index 1 has size 2",
     "output_type": "error",
     "traceback": [
      "\u001b[1;31m---------------------------------------------------------------------------\u001b[0m",
      "\u001b[1;31mValueError\u001b[0m                                Traceback (most recent call last)",
      "\u001b[1;32m<ipython-input-5-e4c36903d902>\u001b[0m in \u001b[0;36m<module>\u001b[1;34m\u001b[0m\n\u001b[0;32m      9\u001b[0m \u001b[1;31m#     pass\u001b[0m\u001b[1;33m\u001b[0m\u001b[1;33m\u001b[0m\u001b[1;33m\u001b[0m\u001b[0m\n\u001b[0;32m     10\u001b[0m     \u001b[0mtemp\u001b[0m\u001b[1;33m=\u001b[0m\u001b[0mnp\u001b[0m\u001b[1;33m.\u001b[0m\u001b[0marray\u001b[0m\u001b[1;33m(\u001b[0m\u001b[1;33m[\u001b[0m\u001b[1;33m(\u001b[0m\u001b[0mi\u001b[0m\u001b[1;33m,\u001b[0m\u001b[0mi\u001b[0m\u001b[1;33m)\u001b[0m\u001b[1;33m]\u001b[0m\u001b[1;33m)\u001b[0m\u001b[1;33m\u001b[0m\u001b[1;33m\u001b[0m\u001b[0m\n\u001b[1;32m---> 11\u001b[1;33m     \u001b[0mb\u001b[0m\u001b[1;33m=\u001b[0m\u001b[0mnp\u001b[0m\u001b[1;33m.\u001b[0m\u001b[0mconcatenate\u001b[0m\u001b[1;33m(\u001b[0m\u001b[1;33m(\u001b[0m\u001b[0mb\u001b[0m\u001b[1;33m,\u001b[0m\u001b[0mtemp\u001b[0m\u001b[1;33m)\u001b[0m\u001b[1;33m,\u001b[0m \u001b[0maxis\u001b[0m\u001b[1;33m=\u001b[0m\u001b[1;36m0\u001b[0m\u001b[1;33m)\u001b[0m\u001b[1;33m\u001b[0m\u001b[1;33m\u001b[0m\u001b[0m\n\u001b[0m\u001b[0;32m     12\u001b[0m \u001b[1;31m# c=np.array([(1,1)])\u001b[0m\u001b[1;33m\u001b[0m\u001b[1;33m\u001b[0m\u001b[1;33m\u001b[0m\u001b[0m\n\u001b[0;32m     13\u001b[0m \u001b[1;33m\u001b[0m\u001b[0m\n",
      "\u001b[1;32m<__array_function__ internals>\u001b[0m in \u001b[0;36mconcatenate\u001b[1;34m(*args, **kwargs)\u001b[0m\n",
      "\u001b[1;31mValueError\u001b[0m: all the input array dimensions for the concatenation axis must match exactly, but along dimension 1, the array at index 0 has size 1 and the array at index 1 has size 2"
     ]
    }
   ],
   "source": [
    "import numpy as np\n",
    "\n",
    "a=np.array([0,1])\n",
    "print(a)\n",
    "\n",
    "b=np.empty([0, 1], dtype=int)\n",
    "# b=np.array([(0,0)])\n",
    "for i in range(5):\n",
    "#     pass\n",
    "    temp=np.array([(i,i)])\n",
    "    b=np.concatenate((b,temp), axis=0)\n",
    "# c=np.array([(1,1)])\n",
    "\n",
    "# b=np.concatenate((b,c), axis=0)\n",
    "print(b)"
   ]
  }
 ],
 "metadata": {
  "kernelspec": {
   "display_name": "Python 3",
   "language": "python",
   "name": "python3"
  },
  "language_info": {
   "codemirror_mode": {
    "name": "ipython",
    "version": 3
   },
   "file_extension": ".py",
   "mimetype": "text/x-python",
   "name": "python",
   "nbconvert_exporter": "python",
   "pygments_lexer": "ipython3",
   "version": "3.8.8"
  }
 },
 "nbformat": 4,
 "nbformat_minor": 5
}
