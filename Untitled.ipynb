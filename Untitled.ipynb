{
 "cells": [
  {
   "cell_type": "code",
   "execution_count": 8,
   "id": "a28393a2",
   "metadata": {},
   "outputs": [
    {
     "name": "stdout",
     "output_type": "stream",
     "text": [
      "[[0 0]\n",
      " [1 0]\n",
      " [0 1]\n",
      " [1 1]]\n",
      "0\n",
      "((0, 0), (1, 0), (0, 1), (1, 1))\n"
     ]
    }
   ],
   "source": [
    "import numpy as np\n",
    "\"\"\"Space for trying things\"\"\"\n",
    "\n",
    "# a=np.matrix([[0,0],[1,0],[0,1],[1,1] ])\n",
    "# # b=np.matrix([2,5])\n",
    "# b=np.matrix([0,0])\n",
    "# c=b+a\n",
    "# print(a, b)\n",
    "# print(c)\n",
    "# print(type(a))\n",
    "\n",
    "\n",
    "shape=np.array([(0,0),(1,0),(0,1),(1,1)])\n",
    "print(shape)\n",
    "print(shape[2,0])\n",
    "\n",
    "shape=tuple(map(tuple, shape))\n",
    "print(shape)\n",
    "\n",
    "# for row in shape:\n",
    "#     print(\"this row\", row)\n",
    "#     print(row.shape)\n",
    "\n",
    "# print(shape.shape)\n",
    "# print(shape.shape[0])\n",
    "# print(shape.shape[1])\n",
    "\n",
    "# for row in shape:\n",
    "#     print(row.shape)\n",
    "#     a=()\n",
    "#     for element in row:\n",
    "#         print(\"lala\")\n",
    "#         print(element.shape)\n",
    "#         print(type(element))\n",
    "# #         a=a+(element)\n",
    "# #     print(a) "
   ]
  },
  {
   "cell_type": "code",
   "execution_count": 34,
   "id": "808df673",
   "metadata": {
    "scrolled": true
   },
   "outputs": [
    {
     "name": "stdout",
     "output_type": "stream",
     "text": [
      "[[1, 1, 1, 1]]\n",
      "[[0 0]\n",
      " [0 1]\n",
      " [0 2]\n",
      " [0 3]]\n",
      "####\n",
      "[[1], [1], [1], [1]]\n",
      "[[0 0]\n",
      " [1 0]\n",
      " [2 0]\n",
      " [3 0]]\n",
      "####\n",
      "[[1, 1, 1, 1]]\n",
      "[[0 0]\n",
      " [0 1]\n",
      " [0 2]\n",
      " [0 3]]\n",
      "####\n",
      "[[1], [1], [1], [1]]\n",
      "[[ 0 -1]\n",
      " [ 1 -1]\n",
      " [ 2 -1]\n",
      " [ 3 -1]]\n"
     ]
    }
   ],
   "source": [
    "import numpy as np\n",
    "\n",
    "SHAPES = [\n",
    "    [[1, 1, 1, 1]],\n",
    "    [[1, 1], [1, 1]],\n",
    "    [[1, 1, 1], [0, 1, 0]],\n",
    "    [[1, 1, 1], [1, 0, 0]],\n",
    "    [[1, 1, 1], [0, 0, 1]],\n",
    "    [[1, 1, 1], [0, 1, 0]],\n",
    "    [[1, 1, 1], [1, 0, 1]],\n",
    "]\n",
    "\n",
    "def rotate_shape(shape):\n",
    "    return [list(row) for row in zip(*shape[::-1])]\n",
    "\n",
    "def coordinates(shape):\n",
    "    i, j=0, 0\n",
    "    shape=np.array(shape)\n",
    "    coordinates=np.empty([0, 2], dtype=int)\n",
    "    for row in range(shape.shape[0]):\n",
    "        for element in range(shape.shape[1]):\n",
    "            if shape[row, element]==1:\n",
    "                temp=np.array([(row, element)])\n",
    "                coordinates=np.concatenate((coordinates,temp), axis=0)\n",
    "    return coordinates\n",
    "    \n",
    "figure=SHAPES[0]\n",
    "rotation1=rotate_shape(figure)\n",
    "rotation2=rotate_shape(rotation1)\n",
    "rotation3=rotate_shape(rotation2)\n",
    "\n",
    "print(figure)\n",
    "print(coordinates(figure))\n",
    "print(\"####\")\n",
    "print(rotation1)\n",
    "print(coordinates(rotation1))\n",
    "print(\"####\")\n",
    "print(rotation2)\n",
    "print(coordinates(rotation2))\n",
    "print(\"####\")\n",
    "print(rotation3)\n",
    "print(coordinates(rotation3)-np.array([0,1]))\n",
    "\n",
    "\n",
    "# shape=np.array([(1,0),(1,1),(1,2),(0,1)])\n",
    "# print(shape)\n",
    "\n",
    "# shape=np.transpose(shape, axes=None)\n",
    "# shape=np.transpose(shape, axes=None)\n",
    "# print(shape)"
   ]
  },
  {
   "cell_type": "code",
   "execution_count": 24,
   "id": "2ddd813f",
   "metadata": {},
   "outputs": [
    {
     "name": "stdout",
     "output_type": "stream",
     "text": [
      "[0 1]\n",
      "[[0 0]\n",
      " [1 1]\n",
      " [2 2]\n",
      " [3 3]\n",
      " [4 4]]\n",
      "10\n",
      "9\n",
      "8\n",
      "7\n",
      "6\n",
      "5\n",
      "4\n",
      "3\n",
      "2\n",
      "1\n"
     ]
    }
   ],
   "source": [
    "import numpy as np\n",
    "\n",
    "a=np.array([0,1])\n",
    "print(a)\n",
    "\n",
    "b=np.empty([0, 2], dtype=int)\n",
    "# b=np.array([(0,0)])\n",
    "for i in range(5):\n",
    "#     pass\n",
    "    temp=np.array([(i,i)])\n",
    "    b=np.concatenate((b,temp), axis=0)\n",
    "# c=np.array([(1,1)])\n",
    "\n",
    "# b=np.concatenate((b,c), axis=0)\n",
    "print(b)\n",
    "\n",
    "for i in range(10):\n",
    "    print(10-i)"
   ]
  },
  {
   "cell_type": "code",
   "execution_count": 30,
   "id": "7899771d",
   "metadata": {},
   "outputs": [
    {
     "data": {
      "text/plain": [
       "1"
      ]
     },
     "execution_count": 30,
     "metadata": {},
     "output_type": "execute_result"
    }
   ],
   "source": [
    "int(4/2)-1"
   ]
  }
 ],
 "metadata": {
  "kernelspec": {
   "display_name": "Python 3",
   "language": "python",
   "name": "python3"
  },
  "language_info": {
   "codemirror_mode": {
    "name": "ipython",
    "version": 3
   },
   "file_extension": ".py",
   "mimetype": "text/x-python",
   "name": "python",
   "nbconvert_exporter": "python",
   "pygments_lexer": "ipython3",
   "version": "3.8.8"
  }
 },
 "nbformat": 4,
 "nbformat_minor": 5
}
