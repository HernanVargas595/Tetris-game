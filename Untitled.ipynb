{
 "cells": [
  {
   "cell_type": "code",
   "execution_count": 8,
   "id": "a28393a2",
   "metadata": {},
   "outputs": [
    {
     "name": "stdout",
     "output_type": "stream",
     "text": [
      "[[0 0]\n",
      " [1 0]\n",
      " [0 1]\n",
      " [1 1]]\n",
      "0\n",
      "((0, 0), (1, 0), (0, 1), (1, 1))\n"
     ]
    }
   ],
   "source": [
    "import numpy as np\n",
    "\"\"\"Space for trying things\"\"\"\n",
    "\n",
    "# a=np.matrix([[0,0],[1,0],[0,1],[1,1] ])\n",
    "# # b=np.matrix([2,5])\n",
    "# b=np.matrix([0,0])\n",
    "# c=b+a\n",
    "# print(a, b)\n",
    "# print(c)\n",
    "# print(type(a))\n",
    "\n",
    "\n",
    "shape=np.array([(0,0),(1,0),(0,1),(1,1)])\n",
    "print(shape)\n",
    "print(shape[2,0])\n",
    "\n",
    "shape=tuple(map(tuple, shape))\n",
    "print(shape)\n",
    "\n",
    "# for row in shape:\n",
    "#     print(\"this row\", row)\n",
    "#     print(row.shape)\n",
    "\n",
    "# print(shape.shape)\n",
    "# print(shape.shape[0])\n",
    "# print(shape.shape[1])\n",
    "\n",
    "# for row in shape:\n",
    "#     print(row.shape)\n",
    "#     a=()\n",
    "#     for element in row:\n",
    "#         print(\"lala\")\n",
    "#         print(element.shape)\n",
    "#         print(type(element))\n",
    "# #         a=a+(element)\n",
    "# #     print(a) "
   ]
  },
  {
   "cell_type": "code",
   "execution_count": 12,
   "id": "808df673",
   "metadata": {
    "scrolled": true
   },
   "outputs": [
    {
     "name": "stdout",
     "output_type": "stream",
     "text": [
      "[[1, 1, 1], [0, 1, 0]]\n",
      "[[0, 1], [1, 1], [0, 1]]\n",
      "[[0, 1, 0], [1, 1, 1]]\n",
      "[[1, 0], [1, 1], [1, 0]]\n",
      "[[1 0]\n",
      " [1 1]\n",
      " [1 2]\n",
      " [0 1]]\n",
      "[[1 0]\n",
      " [1 1]\n",
      " [1 2]\n",
      " [0 1]]\n"
     ]
    }
   ],
   "source": [
    "SHAPES = [\n",
    "    [[1, 1, 1, 1]],\n",
    "    [[1, 1], [1, 1]],\n",
    "    [[1, 1, 1], [0, 1, 0]],\n",
    "    [[1, 1, 1], [1, 0, 0]],\n",
    "    [[1, 1, 1], [0, 0, 1]],\n",
    "    [[1, 1, 1], [0, 1, 0]],\n",
    "    [[1, 1, 1], [1, 0, 1]],\n",
    "]\n",
    "\n",
    "def rotate_shape(shape):\n",
    "    return [list(row) for row in zip(*shape[::-1])]\n",
    "\n",
    "figure=SHAPES[2]\n",
    "print(figure)\n",
    "\n",
    "rotation1=rotate_shape(figure)\n",
    "rotation2=rotate_shape(rotation1)\n",
    "rotation3=rotate_shape(rotation2)\n",
    "\n",
    "print(rotation1)\n",
    "print(rotation2)\n",
    "print(rotation3)\n",
    "\n",
    "\n",
    "shape=np.array([(1,0),(1,1),(1,2),(0,1)])\n",
    "print(shape)\n",
    "\n",
    "shape=np.transpose(shape, axes=None)\n",
    "shape=np.transpose(shape, axes=None)\n",
    "print(shape)"
   ]
  }
 ],
 "metadata": {
  "kernelspec": {
   "display_name": "Python 3",
   "language": "python",
   "name": "python3"
  },
  "language_info": {
   "codemirror_mode": {
    "name": "ipython",
    "version": 3
   },
   "file_extension": ".py",
   "mimetype": "text/x-python",
   "name": "python",
   "nbconvert_exporter": "python",
   "pygments_lexer": "ipython3",
   "version": "3.8.8"
  }
 },
 "nbformat": 4,
 "nbformat_minor": 5
}
